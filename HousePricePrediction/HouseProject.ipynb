{
  "nbformat": 4,
  "nbformat_minor": 0,
  "metadata": {
    "colab": {
      "name": "Copy of HouseProject.ipynb",
      "provenance": []
    },
    "kernelspec": {
      "name": "python3",
      "display_name": "Python 3"
    },
    "accelerator": "GPU"
  },
  "cells": [
    {
      "cell_type": "code",
      "metadata": {
        "id": "ySZgxC4Pqmo4",
        "colab_type": "code",
        "colab": {
          "base_uri": "https://localhost:8080/",
          "height": 447
        },
        "outputId": "7c1ae67e-fe4b-47c8-f10f-6b9d3e5589ff"
      },
      "source": [
        "# Data Collection\n",
        "# Read the data \n",
        "import pandas as pd\n",
        "data = pd.read_csv(\"http://hackveda.in/sistec/Housing_Modified.csv\")\n",
        "data"
      ],
      "execution_count": null,
      "outputs": [
        {
          "output_type": "execute_result",
          "data": {
            "text/html": [
              "<div>\n",
              "<style scoped>\n",
              "    .dataframe tbody tr th:only-of-type {\n",
              "        vertical-align: middle;\n",
              "    }\n",
              "\n",
              "    .dataframe tbody tr th {\n",
              "        vertical-align: top;\n",
              "    }\n",
              "\n",
              "    .dataframe thead th {\n",
              "        text-align: right;\n",
              "    }\n",
              "</style>\n",
              "<table border=\"1\" class=\"dataframe\">\n",
              "  <thead>\n",
              "    <tr style=\"text-align: right;\">\n",
              "      <th></th>\n",
              "      <th>price</th>\n",
              "      <th>lotsize</th>\n",
              "      <th>bedrooms</th>\n",
              "      <th>bathrms</th>\n",
              "      <th>stories</th>\n",
              "      <th>driveway</th>\n",
              "      <th>recroom</th>\n",
              "      <th>fullbase</th>\n",
              "      <th>gashw</th>\n",
              "      <th>airco</th>\n",
              "      <th>garagepl</th>\n",
              "      <th>prefarea</th>\n",
              "    </tr>\n",
              "  </thead>\n",
              "  <tbody>\n",
              "    <tr>\n",
              "      <th>0</th>\n",
              "      <td>42000.0</td>\n",
              "      <td>5850</td>\n",
              "      <td>3</td>\n",
              "      <td>1</td>\n",
              "      <td>two</td>\n",
              "      <td>yes</td>\n",
              "      <td>no</td>\n",
              "      <td>yes</td>\n",
              "      <td>no</td>\n",
              "      <td>no</td>\n",
              "      <td>1</td>\n",
              "      <td>no</td>\n",
              "    </tr>\n",
              "    <tr>\n",
              "      <th>1</th>\n",
              "      <td>38500.0</td>\n",
              "      <td>4000</td>\n",
              "      <td>2</td>\n",
              "      <td>1</td>\n",
              "      <td>one</td>\n",
              "      <td>yes</td>\n",
              "      <td>no</td>\n",
              "      <td>no</td>\n",
              "      <td>no</td>\n",
              "      <td>no</td>\n",
              "      <td>0</td>\n",
              "      <td>no</td>\n",
              "    </tr>\n",
              "    <tr>\n",
              "      <th>2</th>\n",
              "      <td>49500.0</td>\n",
              "      <td>3060</td>\n",
              "      <td>3</td>\n",
              "      <td>1</td>\n",
              "      <td>one</td>\n",
              "      <td>yes</td>\n",
              "      <td>no</td>\n",
              "      <td>no</td>\n",
              "      <td>no</td>\n",
              "      <td>no</td>\n",
              "      <td>0</td>\n",
              "      <td>no</td>\n",
              "    </tr>\n",
              "    <tr>\n",
              "      <th>3</th>\n",
              "      <td>60500.0</td>\n",
              "      <td>6650</td>\n",
              "      <td>3</td>\n",
              "      <td>1</td>\n",
              "      <td>two</td>\n",
              "      <td>yes</td>\n",
              "      <td>yes</td>\n",
              "      <td>no</td>\n",
              "      <td>no</td>\n",
              "      <td>no</td>\n",
              "      <td>0</td>\n",
              "      <td>no</td>\n",
              "    </tr>\n",
              "    <tr>\n",
              "      <th>4</th>\n",
              "      <td>61000.0</td>\n",
              "      <td>6360</td>\n",
              "      <td>2</td>\n",
              "      <td>1</td>\n",
              "      <td>one</td>\n",
              "      <td>yes</td>\n",
              "      <td>no</td>\n",
              "      <td>no</td>\n",
              "      <td>no</td>\n",
              "      <td>no</td>\n",
              "      <td>0</td>\n",
              "      <td>no</td>\n",
              "    </tr>\n",
              "    <tr>\n",
              "      <th>...</th>\n",
              "      <td>...</td>\n",
              "      <td>...</td>\n",
              "      <td>...</td>\n",
              "      <td>...</td>\n",
              "      <td>...</td>\n",
              "      <td>...</td>\n",
              "      <td>...</td>\n",
              "      <td>...</td>\n",
              "      <td>...</td>\n",
              "      <td>...</td>\n",
              "      <td>...</td>\n",
              "      <td>...</td>\n",
              "    </tr>\n",
              "    <tr>\n",
              "      <th>541</th>\n",
              "      <td>91500.0</td>\n",
              "      <td>4800</td>\n",
              "      <td>3</td>\n",
              "      <td>2</td>\n",
              "      <td>four</td>\n",
              "      <td>yes</td>\n",
              "      <td>yes</td>\n",
              "      <td>no</td>\n",
              "      <td>no</td>\n",
              "      <td>yes</td>\n",
              "      <td>0</td>\n",
              "      <td>no</td>\n",
              "    </tr>\n",
              "    <tr>\n",
              "      <th>542</th>\n",
              "      <td>94000.0</td>\n",
              "      <td>6000</td>\n",
              "      <td>3</td>\n",
              "      <td>2</td>\n",
              "      <td>four</td>\n",
              "      <td>yes</td>\n",
              "      <td>no</td>\n",
              "      <td>no</td>\n",
              "      <td>no</td>\n",
              "      <td>yes</td>\n",
              "      <td>0</td>\n",
              "      <td>no</td>\n",
              "    </tr>\n",
              "    <tr>\n",
              "      <th>543</th>\n",
              "      <td>103000.0</td>\n",
              "      <td>6000</td>\n",
              "      <td>3</td>\n",
              "      <td>2</td>\n",
              "      <td>four</td>\n",
              "      <td>yes</td>\n",
              "      <td>yes</td>\n",
              "      <td>no</td>\n",
              "      <td>no</td>\n",
              "      <td>yes</td>\n",
              "      <td>1</td>\n",
              "      <td>no</td>\n",
              "    </tr>\n",
              "    <tr>\n",
              "      <th>544</th>\n",
              "      <td>105000.0</td>\n",
              "      <td>6000</td>\n",
              "      <td>3</td>\n",
              "      <td>2</td>\n",
              "      <td>two</td>\n",
              "      <td>yes</td>\n",
              "      <td>yes</td>\n",
              "      <td>no</td>\n",
              "      <td>no</td>\n",
              "      <td>yes</td>\n",
              "      <td>1</td>\n",
              "      <td>no</td>\n",
              "    </tr>\n",
              "    <tr>\n",
              "      <th>545</th>\n",
              "      <td>105000.0</td>\n",
              "      <td>6000</td>\n",
              "      <td>3</td>\n",
              "      <td>1</td>\n",
              "      <td>two</td>\n",
              "      <td>yes</td>\n",
              "      <td>no</td>\n",
              "      <td>no</td>\n",
              "      <td>no</td>\n",
              "      <td>yes</td>\n",
              "      <td>1</td>\n",
              "      <td>no</td>\n",
              "    </tr>\n",
              "  </tbody>\n",
              "</table>\n",
              "<p>546 rows × 12 columns</p>\n",
              "</div>"
            ],
            "text/plain": [
              "        price  lotsize  bedrooms  bathrms  ... gashw airco garagepl prefarea\n",
              "0     42000.0     5850         3        1  ...    no    no        1       no\n",
              "1     38500.0     4000         2        1  ...    no    no        0       no\n",
              "2     49500.0     3060         3        1  ...    no    no        0       no\n",
              "3     60500.0     6650         3        1  ...    no    no        0       no\n",
              "4     61000.0     6360         2        1  ...    no    no        0       no\n",
              "..        ...      ...       ...      ...  ...   ...   ...      ...      ...\n",
              "541   91500.0     4800         3        2  ...    no   yes        0       no\n",
              "542   94000.0     6000         3        2  ...    no   yes        0       no\n",
              "543  103000.0     6000         3        2  ...    no   yes        1       no\n",
              "544  105000.0     6000         3        2  ...    no   yes        1       no\n",
              "545  105000.0     6000         3        1  ...    no   yes        1       no\n",
              "\n",
              "[546 rows x 12 columns]"
            ]
          },
          "metadata": {
            "tags": []
          },
          "execution_count": 2
        }
      ]
    },
    {
      "cell_type": "code",
      "metadata": {
        "id": "F_yAxQ-DsEbc",
        "colab_type": "code",
        "colab": {
          "base_uri": "https://localhost:8080/",
          "height": 228
        },
        "outputId": "b51dfbc1-cf3b-41e8-89e9-4cb48bc7298e"
      },
      "source": [
        "# Correlation among independent variables and dependent variables\n",
        "# Correlation - Measure to identify realationship between independent and dependent variables\n",
        "data.corr() "
      ],
      "execution_count": null,
      "outputs": [
        {
          "output_type": "execute_result",
          "data": {
            "text/html": [
              "<div>\n",
              "<style scoped>\n",
              "    .dataframe tbody tr th:only-of-type {\n",
              "        vertical-align: middle;\n",
              "    }\n",
              "\n",
              "    .dataframe tbody tr th {\n",
              "        vertical-align: top;\n",
              "    }\n",
              "\n",
              "    .dataframe thead th {\n",
              "        text-align: right;\n",
              "    }\n",
              "</style>\n",
              "<table border=\"1\" class=\"dataframe\">\n",
              "  <thead>\n",
              "    <tr style=\"text-align: right;\">\n",
              "      <th></th>\n",
              "      <th>price</th>\n",
              "      <th>lotsize</th>\n",
              "      <th>bedrooms</th>\n",
              "      <th>bathrms</th>\n",
              "      <th>garagepl</th>\n",
              "    </tr>\n",
              "  </thead>\n",
              "  <tbody>\n",
              "    <tr>\n",
              "      <th>price</th>\n",
              "      <td>1.000000</td>\n",
              "      <td>0.535796</td>\n",
              "      <td>0.366447</td>\n",
              "      <td>0.516719</td>\n",
              "      <td>0.383302</td>\n",
              "    </tr>\n",
              "    <tr>\n",
              "      <th>lotsize</th>\n",
              "      <td>0.535796</td>\n",
              "      <td>1.000000</td>\n",
              "      <td>0.151851</td>\n",
              "      <td>0.193833</td>\n",
              "      <td>0.352872</td>\n",
              "    </tr>\n",
              "    <tr>\n",
              "      <th>bedrooms</th>\n",
              "      <td>0.366447</td>\n",
              "      <td>0.151851</td>\n",
              "      <td>1.000000</td>\n",
              "      <td>0.373769</td>\n",
              "      <td>0.139117</td>\n",
              "    </tr>\n",
              "    <tr>\n",
              "      <th>bathrms</th>\n",
              "      <td>0.516719</td>\n",
              "      <td>0.193833</td>\n",
              "      <td>0.373769</td>\n",
              "      <td>1.000000</td>\n",
              "      <td>0.178178</td>\n",
              "    </tr>\n",
              "    <tr>\n",
              "      <th>garagepl</th>\n",
              "      <td>0.383302</td>\n",
              "      <td>0.352872</td>\n",
              "      <td>0.139117</td>\n",
              "      <td>0.178178</td>\n",
              "      <td>1.000000</td>\n",
              "    </tr>\n",
              "  </tbody>\n",
              "</table>\n",
              "</div>"
            ],
            "text/plain": [
              "             price   lotsize  bedrooms   bathrms  garagepl\n",
              "price     1.000000  0.535796  0.366447  0.516719  0.383302\n",
              "lotsize   0.535796  1.000000  0.151851  0.193833  0.352872\n",
              "bedrooms  0.366447  0.151851  1.000000  0.373769  0.139117\n",
              "bathrms   0.516719  0.193833  0.373769  1.000000  0.178178\n",
              "garagepl  0.383302  0.352872  0.139117  0.178178  1.000000"
            ]
          },
          "metadata": {
            "tags": []
          },
          "execution_count": 3
        }
      ]
    },
    {
      "cell_type": "code",
      "metadata": {
        "id": "NpNobWAsu7Ig",
        "colab_type": "code",
        "colab": {}
      },
      "source": [
        "# Preprocessing in Python\n",
        "# Use a library known as sklearn.preprocessing\n",
        "import sklearn.preprocessing as pp\n",
        "lb = pp.LabelBinarizer()\n",
        "data.driveway = lb.fit_transform(data.driveway)\n",
        "data.recroom = lb.fit_transform(data.recroom)\n",
        "data.fullbase = lb.fit_transform(data.fullbase)\n",
        "data.gashw = lb.fit_transform(data.gashw)\n",
        "data.airco = lb.fit_transform(data.airco)\n",
        "data.prefarea = lb.fit_transform(data.prefarea)"
      ],
      "execution_count": null,
      "outputs": []
    },
    {
      "cell_type": "code",
      "metadata": {
        "id": "WSlJL04x0B2R",
        "colab_type": "code",
        "colab": {}
      },
      "source": [
        "# Converting N-categorical text values into numbers\n",
        "lbe = pp.LabelEncoder()\n",
        "data.stories = lbe.fit_transform(data.stories)"
      ],
      "execution_count": null,
      "outputs": []
    },
    {
      "cell_type": "code",
      "metadata": {
        "id": "BF7b9Fv7wb-W",
        "colab_type": "code",
        "colab": {
          "base_uri": "https://localhost:8080/",
          "height": 449
        },
        "outputId": "21bc08f8-2ea8-4919-c8fe-320d4c871deb"
      },
      "source": [
        "data.corr()"
      ],
      "execution_count": null,
      "outputs": [
        {
          "output_type": "execute_result",
          "data": {
            "text/html": [
              "<div>\n",
              "<style scoped>\n",
              "    .dataframe tbody tr th:only-of-type {\n",
              "        vertical-align: middle;\n",
              "    }\n",
              "\n",
              "    .dataframe tbody tr th {\n",
              "        vertical-align: top;\n",
              "    }\n",
              "\n",
              "    .dataframe thead th {\n",
              "        text-align: right;\n",
              "    }\n",
              "</style>\n",
              "<table border=\"1\" class=\"dataframe\">\n",
              "  <thead>\n",
              "    <tr style=\"text-align: right;\">\n",
              "      <th></th>\n",
              "      <th>price</th>\n",
              "      <th>lotsize</th>\n",
              "      <th>bedrooms</th>\n",
              "      <th>bathrms</th>\n",
              "      <th>stories</th>\n",
              "      <th>driveway</th>\n",
              "      <th>recroom</th>\n",
              "      <th>fullbase</th>\n",
              "      <th>gashw</th>\n",
              "      <th>airco</th>\n",
              "      <th>garagepl</th>\n",
              "      <th>prefarea</th>\n",
              "    </tr>\n",
              "  </thead>\n",
              "  <tbody>\n",
              "    <tr>\n",
              "      <th>price</th>\n",
              "      <td>1.000000</td>\n",
              "      <td>0.535796</td>\n",
              "      <td>0.366447</td>\n",
              "      <td>0.516719</td>\n",
              "      <td>-0.060219</td>\n",
              "      <td>0.297167</td>\n",
              "      <td>0.254960</td>\n",
              "      <td>0.186218</td>\n",
              "      <td>0.092837</td>\n",
              "      <td>0.453347</td>\n",
              "      <td>0.383302</td>\n",
              "      <td>0.329074</td>\n",
              "    </tr>\n",
              "    <tr>\n",
              "      <th>lotsize</th>\n",
              "      <td>0.535796</td>\n",
              "      <td>1.000000</td>\n",
              "      <td>0.151851</td>\n",
              "      <td>0.193833</td>\n",
              "      <td>-0.187664</td>\n",
              "      <td>0.288778</td>\n",
              "      <td>0.140327</td>\n",
              "      <td>0.047487</td>\n",
              "      <td>-0.009201</td>\n",
              "      <td>0.221765</td>\n",
              "      <td>0.352872</td>\n",
              "      <td>0.234782</td>\n",
              "    </tr>\n",
              "    <tr>\n",
              "      <th>bedrooms</th>\n",
              "      <td>0.366447</td>\n",
              "      <td>0.151851</td>\n",
              "      <td>1.000000</td>\n",
              "      <td>0.373769</td>\n",
              "      <td>0.339580</td>\n",
              "      <td>-0.011996</td>\n",
              "      <td>0.080492</td>\n",
              "      <td>0.097201</td>\n",
              "      <td>0.046028</td>\n",
              "      <td>0.160412</td>\n",
              "      <td>0.139117</td>\n",
              "      <td>0.078953</td>\n",
              "    </tr>\n",
              "    <tr>\n",
              "      <th>bathrms</th>\n",
              "      <td>0.516719</td>\n",
              "      <td>0.193833</td>\n",
              "      <td>0.373769</td>\n",
              "      <td>1.000000</td>\n",
              "      <td>0.014685</td>\n",
              "      <td>0.041955</td>\n",
              "      <td>0.126892</td>\n",
              "      <td>0.102791</td>\n",
              "      <td>0.067365</td>\n",
              "      <td>0.184955</td>\n",
              "      <td>0.178178</td>\n",
              "      <td>0.064013</td>\n",
              "    </tr>\n",
              "    <tr>\n",
              "      <th>stories</th>\n",
              "      <td>-0.060219</td>\n",
              "      <td>-0.187664</td>\n",
              "      <td>0.339580</td>\n",
              "      <td>0.014685</td>\n",
              "      <td>1.000000</td>\n",
              "      <td>-0.054394</td>\n",
              "      <td>-0.019728</td>\n",
              "      <td>0.100340</td>\n",
              "      <td>0.084305</td>\n",
              "      <td>-0.116403</td>\n",
              "      <td>-0.089589</td>\n",
              "      <td>-0.017673</td>\n",
              "    </tr>\n",
              "    <tr>\n",
              "      <th>driveway</th>\n",
              "      <td>0.297167</td>\n",
              "      <td>0.288778</td>\n",
              "      <td>-0.011996</td>\n",
              "      <td>0.041955</td>\n",
              "      <td>-0.054394</td>\n",
              "      <td>1.000000</td>\n",
              "      <td>0.091959</td>\n",
              "      <td>0.043428</td>\n",
              "      <td>-0.011942</td>\n",
              "      <td>0.106290</td>\n",
              "      <td>0.203682</td>\n",
              "      <td>0.199378</td>\n",
              "    </tr>\n",
              "    <tr>\n",
              "      <th>recroom</th>\n",
              "      <td>0.254960</td>\n",
              "      <td>0.140327</td>\n",
              "      <td>0.080492</td>\n",
              "      <td>0.126892</td>\n",
              "      <td>-0.019728</td>\n",
              "      <td>0.091959</td>\n",
              "      <td>1.000000</td>\n",
              "      <td>0.372434</td>\n",
              "      <td>-0.010119</td>\n",
              "      <td>0.136626</td>\n",
              "      <td>0.038122</td>\n",
              "      <td>0.161292</td>\n",
              "    </tr>\n",
              "    <tr>\n",
              "      <th>fullbase</th>\n",
              "      <td>0.186218</td>\n",
              "      <td>0.047487</td>\n",
              "      <td>0.097201</td>\n",
              "      <td>0.102791</td>\n",
              "      <td>0.100340</td>\n",
              "      <td>0.043428</td>\n",
              "      <td>0.372434</td>\n",
              "      <td>1.000000</td>\n",
              "      <td>0.004677</td>\n",
              "      <td>0.045248</td>\n",
              "      <td>0.052524</td>\n",
              "      <td>0.228651</td>\n",
              "    </tr>\n",
              "    <tr>\n",
              "      <th>gashw</th>\n",
              "      <td>0.092837</td>\n",
              "      <td>-0.009201</td>\n",
              "      <td>0.046028</td>\n",
              "      <td>0.067365</td>\n",
              "      <td>0.084305</td>\n",
              "      <td>-0.011942</td>\n",
              "      <td>-0.010119</td>\n",
              "      <td>0.004677</td>\n",
              "      <td>1.000000</td>\n",
              "      <td>-0.130350</td>\n",
              "      <td>0.068144</td>\n",
              "      <td>-0.059170</td>\n",
              "    </tr>\n",
              "    <tr>\n",
              "      <th>airco</th>\n",
              "      <td>0.453347</td>\n",
              "      <td>0.221765</td>\n",
              "      <td>0.160412</td>\n",
              "      <td>0.184955</td>\n",
              "      <td>-0.116403</td>\n",
              "      <td>0.106290</td>\n",
              "      <td>0.136626</td>\n",
              "      <td>0.045248</td>\n",
              "      <td>-0.130350</td>\n",
              "      <td>1.000000</td>\n",
              "      <td>0.156596</td>\n",
              "      <td>0.115626</td>\n",
              "    </tr>\n",
              "    <tr>\n",
              "      <th>garagepl</th>\n",
              "      <td>0.383302</td>\n",
              "      <td>0.352872</td>\n",
              "      <td>0.139117</td>\n",
              "      <td>0.178178</td>\n",
              "      <td>-0.089589</td>\n",
              "      <td>0.203682</td>\n",
              "      <td>0.038122</td>\n",
              "      <td>0.052524</td>\n",
              "      <td>0.068144</td>\n",
              "      <td>0.156596</td>\n",
              "      <td>1.000000</td>\n",
              "      <td>0.092364</td>\n",
              "    </tr>\n",
              "    <tr>\n",
              "      <th>prefarea</th>\n",
              "      <td>0.329074</td>\n",
              "      <td>0.234782</td>\n",
              "      <td>0.078953</td>\n",
              "      <td>0.064013</td>\n",
              "      <td>-0.017673</td>\n",
              "      <td>0.199378</td>\n",
              "      <td>0.161292</td>\n",
              "      <td>0.228651</td>\n",
              "      <td>-0.059170</td>\n",
              "      <td>0.115626</td>\n",
              "      <td>0.092364</td>\n",
              "      <td>1.000000</td>\n",
              "    </tr>\n",
              "  </tbody>\n",
              "</table>\n",
              "</div>"
            ],
            "text/plain": [
              "             price   lotsize  bedrooms  ...     airco  garagepl  prefarea\n",
              "price     1.000000  0.535796  0.366447  ...  0.453347  0.383302  0.329074\n",
              "lotsize   0.535796  1.000000  0.151851  ...  0.221765  0.352872  0.234782\n",
              "bedrooms  0.366447  0.151851  1.000000  ...  0.160412  0.139117  0.078953\n",
              "bathrms   0.516719  0.193833  0.373769  ...  0.184955  0.178178  0.064013\n",
              "stories  -0.060219 -0.187664  0.339580  ... -0.116403 -0.089589 -0.017673\n",
              "driveway  0.297167  0.288778 -0.011996  ...  0.106290  0.203682  0.199378\n",
              "recroom   0.254960  0.140327  0.080492  ...  0.136626  0.038122  0.161292\n",
              "fullbase  0.186218  0.047487  0.097201  ...  0.045248  0.052524  0.228651\n",
              "gashw     0.092837 -0.009201  0.046028  ... -0.130350  0.068144 -0.059170\n",
              "airco     0.453347  0.221765  0.160412  ...  1.000000  0.156596  0.115626\n",
              "garagepl  0.383302  0.352872  0.139117  ...  0.156596  1.000000  0.092364\n",
              "prefarea  0.329074  0.234782  0.078953  ...  0.115626  0.092364  1.000000\n",
              "\n",
              "[12 rows x 12 columns]"
            ]
          },
          "metadata": {
            "tags": []
          },
          "execution_count": 6
        }
      ]
    },
    {
      "cell_type": "code",
      "metadata": {
        "id": "ck6Kzp21uIak",
        "colab_type": "code",
        "colab": {
          "base_uri": "https://localhost:8080/",
          "height": 164
        },
        "outputId": "9cc4e46f-541e-4126-9b97-2b0422aaae8d"
      },
      "source": [
        "data.head(3)"
      ],
      "execution_count": null,
      "outputs": [
        {
          "output_type": "execute_result",
          "data": {
            "text/html": [
              "<div>\n",
              "<style scoped>\n",
              "    .dataframe tbody tr th:only-of-type {\n",
              "        vertical-align: middle;\n",
              "    }\n",
              "\n",
              "    .dataframe tbody tr th {\n",
              "        vertical-align: top;\n",
              "    }\n",
              "\n",
              "    .dataframe thead th {\n",
              "        text-align: right;\n",
              "    }\n",
              "</style>\n",
              "<table border=\"1\" class=\"dataframe\">\n",
              "  <thead>\n",
              "    <tr style=\"text-align: right;\">\n",
              "      <th></th>\n",
              "      <th>price</th>\n",
              "      <th>lotsize</th>\n",
              "      <th>bedrooms</th>\n",
              "      <th>bathrms</th>\n",
              "      <th>stories</th>\n",
              "      <th>driveway</th>\n",
              "      <th>recroom</th>\n",
              "      <th>fullbase</th>\n",
              "      <th>gashw</th>\n",
              "      <th>airco</th>\n",
              "      <th>garagepl</th>\n",
              "      <th>prefarea</th>\n",
              "    </tr>\n",
              "  </thead>\n",
              "  <tbody>\n",
              "    <tr>\n",
              "      <th>0</th>\n",
              "      <td>42000.0</td>\n",
              "      <td>5850</td>\n",
              "      <td>3</td>\n",
              "      <td>1</td>\n",
              "      <td>3</td>\n",
              "      <td>1</td>\n",
              "      <td>0</td>\n",
              "      <td>1</td>\n",
              "      <td>0</td>\n",
              "      <td>0</td>\n",
              "      <td>1</td>\n",
              "      <td>0</td>\n",
              "    </tr>\n",
              "    <tr>\n",
              "      <th>1</th>\n",
              "      <td>38500.0</td>\n",
              "      <td>4000</td>\n",
              "      <td>2</td>\n",
              "      <td>1</td>\n",
              "      <td>1</td>\n",
              "      <td>1</td>\n",
              "      <td>0</td>\n",
              "      <td>0</td>\n",
              "      <td>0</td>\n",
              "      <td>0</td>\n",
              "      <td>0</td>\n",
              "      <td>0</td>\n",
              "    </tr>\n",
              "    <tr>\n",
              "      <th>2</th>\n",
              "      <td>49500.0</td>\n",
              "      <td>3060</td>\n",
              "      <td>3</td>\n",
              "      <td>1</td>\n",
              "      <td>1</td>\n",
              "      <td>1</td>\n",
              "      <td>0</td>\n",
              "      <td>0</td>\n",
              "      <td>0</td>\n",
              "      <td>0</td>\n",
              "      <td>0</td>\n",
              "      <td>0</td>\n",
              "    </tr>\n",
              "  </tbody>\n",
              "</table>\n",
              "</div>"
            ],
            "text/plain": [
              "     price  lotsize  bedrooms  bathrms  ...  gashw  airco  garagepl  prefarea\n",
              "0  42000.0     5850         3        1  ...      0      0         1         0\n",
              "1  38500.0     4000         2        1  ...      0      0         0         0\n",
              "2  49500.0     3060         3        1  ...      0      0         0         0\n",
              "\n",
              "[3 rows x 12 columns]"
            ]
          },
          "metadata": {
            "tags": []
          },
          "execution_count": 7
        }
      ]
    },
    {
      "cell_type": "code",
      "metadata": {
        "id": "Os5TM4v7vwmh",
        "colab_type": "code",
        "colab": {
          "base_uri": "https://localhost:8080/",
          "height": 90
        },
        "outputId": "2c219ee6-234d-4d98-b387-dd106dad5241"
      },
      "source": [
        "min_price = data[\"price\"].min()\n",
        "max_price = data[\"price\"].max()\n",
        "print(\"Min value of price is USD %d and max value of price is USD %d\" % (min_price, max_price))\n",
        "\n",
        "# Show the range of lotsize\n",
        "min_lotsize = data[\"lotsize\"].min()\n",
        "max_lotsize = data.lotsize.max()\n",
        "print(\"Min value of lotsize is %d sq mtr and max value of lotsize is %d sq mtr\" % (min_lotsize, max_lotsize))\n",
        "\n",
        "# Show the range of bedrooms\n",
        "min_bedrooms = data.bedrooms.min()\n",
        "max_bedrooms = data.bedrooms.max()\n",
        "print(\"Min value of bedrooms is %d and max value is %d\" % (min_bedrooms, max_bedrooms))"
      ],
      "execution_count": null,
      "outputs": [
        {
          "output_type": "stream",
          "text": [
            "Min value of price is USD 25000 and max value of price is USD 190000\n",
            "Min value of lotsize is 1650 sq mtr and max value of lotsize is 16200 sq mtr\n",
            "Min value of bedrooms is 1 and max value is 6\n"
          ],
          "name": "stdout"
        }
      ]
    },
    {
      "cell_type": "code",
      "metadata": {
        "id": "yzsOmVV1xtaR",
        "colab_type": "code",
        "colab": {
          "base_uri": "https://localhost:8080/",
          "height": 303
        },
        "outputId": "7c7322a5-3bd9-49a6-d328-4621e3c2a345"
      },
      "source": [
        "# Draw a graph of all the values in the current dataframe \n",
        "import matplotlib.pyplot as plt\n",
        "data.plot()"
      ],
      "execution_count": null,
      "outputs": [
        {
          "output_type": "execute_result",
          "data": {
            "text/plain": [
              "<matplotlib.axes._subplots.AxesSubplot at 0x7f9d58655588>"
            ]
          },
          "metadata": {
            "tags": []
          },
          "execution_count": 9
        },
        {
          "output_type": "display_data",
          "data": {
            "image/png": "[encoded data removed]",
            "text/plain": [
              "<Figure size 432x288 with 1 Axes>"
            ]
          },
          "metadata": {
            "tags": [],
            "needs_background": "light"
          }
        }
      ]
    },
    {
      "cell_type": "code",
      "metadata": {
        "id": "LVB1HE21zO_Y",
        "colab_type": "code",
        "colab": {
          "base_uri": "https://localhost:8080/",
          "height": 248
        },
        "outputId": "7cf1bc9d-e160-4c2f-f91c-805497275a2b"
      },
      "source": [
        "# To solve the problem of different scale of independent variables.\n",
        "# We need to use Transformation Techniques to prepare the data for analysis\n",
        "# MinMax Scaling \n",
        "\n",
        "Xnorm = (data.price - min_price)/(max_price - min_price)\n",
        "Xnorm"
      ],
      "execution_count": null,
      "outputs": [
        {
          "output_type": "execute_result",
          "data": {
            "text/plain": [
              "0      0.103030\n",
              "1      0.081818\n",
              "2      0.148485\n",
              "3      0.215152\n",
              "4      0.218182\n",
              "         ...   \n",
              "541    0.403030\n",
              "542    0.418182\n",
              "543    0.472727\n",
              "544    0.484848\n",
              "545    0.484848\n",
              "Name: price, Length: 546, dtype: float64"
            ]
          },
          "metadata": {
            "tags": []
          },
          "execution_count": 10
        }
      ]
    },
    {
      "cell_type": "code",
      "metadata": {
        "id": "DJpbiAd8208M",
        "colab_type": "code",
        "colab": {}
      },
      "source": [
        "# Select the independent variables \n",
        "independent = data.columns\n"
      ],
      "execution_count": null,
      "outputs": []
    },
    {
      "cell_type": "code",
      "metadata": {
        "id": "0tTKPvH03Ofw",
        "colab_type": "code",
        "colab": {
          "base_uri": "https://localhost:8080/",
          "height": 90
        },
        "outputId": "00f8a586-d97c-49b0-834c-815e779cb05f"
      },
      "source": [
        "independent = independent.delete(0)\n",
        "independent"
      ],
      "execution_count": null,
      "outputs": [
        {
          "output_type": "execute_result",
          "data": {
            "text/plain": [
              "Index(['lotsize', 'bedrooms', 'bathrms', 'stories', 'driveway', 'recroom',\n",
              "       'fullbase', 'gashw', 'airco', 'garagepl', 'prefarea'],\n",
              "      dtype='object')"
            ]
          },
          "metadata": {
            "tags": []
          },
          "execution_count": 12
        }
      ]
    },
    {
      "cell_type": "code",
      "metadata": {
        "id": "tBR8KHVV3YR3",
        "colab_type": "code",
        "colab": {
          "base_uri": "https://localhost:8080/",
          "height": 303
        },
        "outputId": "1c12712c-a585-4152-9a4a-0e6f58acb437"
      },
      "source": [
        "data[independent].plot()"
      ],
      "execution_count": null,
      "outputs": [
        {
          "output_type": "execute_result",
          "data": {
            "text/plain": [
              "<matplotlib.axes._subplots.AxesSubplot at 0x7f9d58528780>"
            ]
          },
          "metadata": {
            "tags": []
          },
          "execution_count": 13
        },
        {
          "output_type": "display_data",
          "data": {
            "image/png": "[encoded data removed]",
            "text/plain": [
              "<Figure size 432x288 with 1 Axes>"
            ]
          },
          "metadata": {
            "tags": [],
            "needs_background": "light"
          }
        }
      ]
    },
    {
      "cell_type": "code",
      "metadata": {
        "id": "psZTciF33o7w",
        "colab_type": "code",
        "colab": {
          "base_uri": "https://localhost:8080/",
          "height": 447
        },
        "outputId": "ef7496ed-9a24-4273-fae9-580ef2e2e33f"
      },
      "source": [
        "X = data[independent] # Consider X as representative of Independent variables\n",
        "Xnorm = (X - X.min())/(X.max() - X.min())\n",
        "Xnorm"
      ],
      "execution_count": null,
      "outputs": [
        {
          "output_type": "execute_result",
          "data": {
            "text/html": [
              "<div>\n",
              "<style scoped>\n",
              "    .dataframe tbody tr th:only-of-type {\n",
              "        vertical-align: middle;\n",
              "    }\n",
              "\n",
              "    .dataframe tbody tr th {\n",
              "        vertical-align: top;\n",
              "    }\n",
              "\n",
              "    .dataframe thead th {\n",
              "        text-align: right;\n",
              "    }\n",
              "</style>\n",
              "<table border=\"1\" class=\"dataframe\">\n",
              "  <thead>\n",
              "    <tr style=\"text-align: right;\">\n",
              "      <th></th>\n",
              "      <th>lotsize</th>\n",
              "      <th>bedrooms</th>\n",
              "      <th>bathrms</th>\n",
              "      <th>stories</th>\n",
              "      <th>driveway</th>\n",
              "      <th>recroom</th>\n",
              "      <th>fullbase</th>\n",
              "      <th>gashw</th>\n",
              "      <th>airco</th>\n",
              "      <th>garagepl</th>\n",
              "      <th>prefarea</th>\n",
              "    </tr>\n",
              "  </thead>\n",
              "  <tbody>\n",
              "    <tr>\n",
              "      <th>0</th>\n",
              "      <td>0.288660</td>\n",
              "      <td>0.4</td>\n",
              "      <td>0.000000</td>\n",
              "      <td>1.000000</td>\n",
              "      <td>1.0</td>\n",
              "      <td>0.0</td>\n",
              "      <td>1.0</td>\n",
              "      <td>0.0</td>\n",
              "      <td>0.0</td>\n",
              "      <td>0.333333</td>\n",
              "      <td>0.0</td>\n",
              "    </tr>\n",
              "    <tr>\n",
              "      <th>1</th>\n",
              "      <td>0.161512</td>\n",
              "      <td>0.2</td>\n",
              "      <td>0.000000</td>\n",
              "      <td>0.333333</td>\n",
              "      <td>1.0</td>\n",
              "      <td>0.0</td>\n",
              "      <td>0.0</td>\n",
              "      <td>0.0</td>\n",
              "      <td>0.0</td>\n",
              "      <td>0.000000</td>\n",
              "      <td>0.0</td>\n",
              "    </tr>\n",
              "    <tr>\n",
              "      <th>2</th>\n",
              "      <td>0.096907</td>\n",
              "      <td>0.4</td>\n",
              "      <td>0.000000</td>\n",
              "      <td>0.333333</td>\n",
              "      <td>1.0</td>\n",
              "      <td>0.0</td>\n",
              "      <td>0.0</td>\n",
              "      <td>0.0</td>\n",
              "      <td>0.0</td>\n",
              "      <td>0.000000</td>\n",
              "      <td>0.0</td>\n",
              "    </tr>\n",
              "    <tr>\n",
              "      <th>3</th>\n",
              "      <td>0.343643</td>\n",
              "      <td>0.4</td>\n",
              "      <td>0.000000</td>\n",
              "      <td>1.000000</td>\n",
              "      <td>1.0</td>\n",
              "      <td>1.0</td>\n",
              "      <td>0.0</td>\n",
              "      <td>0.0</td>\n",
              "      <td>0.0</td>\n",
              "      <td>0.000000</td>\n",
              "      <td>0.0</td>\n",
              "    </tr>\n",
              "    <tr>\n",
              "      <th>4</th>\n",
              "      <td>0.323711</td>\n",
              "      <td>0.2</td>\n",
              "      <td>0.000000</td>\n",
              "      <td>0.333333</td>\n",
              "      <td>1.0</td>\n",
              "      <td>0.0</td>\n",
              "      <td>0.0</td>\n",
              "      <td>0.0</td>\n",
              "      <td>0.0</td>\n",
              "      <td>0.000000</td>\n",
              "      <td>0.0</td>\n",
              "    </tr>\n",
              "    <tr>\n",
              "      <th>...</th>\n",
              "      <td>...</td>\n",
              "      <td>...</td>\n",
              "      <td>...</td>\n",
              "      <td>...</td>\n",
              "      <td>...</td>\n",
              "      <td>...</td>\n",
              "      <td>...</td>\n",
              "      <td>...</td>\n",
              "      <td>...</td>\n",
              "      <td>...</td>\n",
              "      <td>...</td>\n",
              "    </tr>\n",
              "    <tr>\n",
              "      <th>541</th>\n",
              "      <td>0.216495</td>\n",
              "      <td>0.4</td>\n",
              "      <td>0.333333</td>\n",
              "      <td>0.000000</td>\n",
              "      <td>1.0</td>\n",
              "      <td>1.0</td>\n",
              "      <td>0.0</td>\n",
              "      <td>0.0</td>\n",
              "      <td>1.0</td>\n",
              "      <td>0.000000</td>\n",
              "      <td>0.0</td>\n",
              "    </tr>\n",
              "    <tr>\n",
              "      <th>542</th>\n",
              "      <td>0.298969</td>\n",
              "      <td>0.4</td>\n",
              "      <td>0.333333</td>\n",
              "      <td>0.000000</td>\n",
              "      <td>1.0</td>\n",
              "      <td>0.0</td>\n",
              "      <td>0.0</td>\n",
              "      <td>0.0</td>\n",
              "      <td>1.0</td>\n",
              "      <td>0.000000</td>\n",
              "      <td>0.0</td>\n",
              "    </tr>\n",
              "    <tr>\n",
              "      <th>543</th>\n",
              "      <td>0.298969</td>\n",
              "      <td>0.4</td>\n",
              "      <td>0.333333</td>\n",
              "      <td>0.000000</td>\n",
              "      <td>1.0</td>\n",
              "      <td>1.0</td>\n",
              "      <td>0.0</td>\n",
              "      <td>0.0</td>\n",
              "      <td>1.0</td>\n",
              "      <td>0.333333</td>\n",
              "      <td>0.0</td>\n",
              "    </tr>\n",
              "    <tr>\n",
              "      <th>544</th>\n",
              "      <td>0.298969</td>\n",
              "      <td>0.4</td>\n",
              "      <td>0.333333</td>\n",
              "      <td>1.000000</td>\n",
              "      <td>1.0</td>\n",
              "      <td>1.0</td>\n",
              "      <td>0.0</td>\n",
              "      <td>0.0</td>\n",
              "      <td>1.0</td>\n",
              "      <td>0.333333</td>\n",
              "      <td>0.0</td>\n",
              "    </tr>\n",
              "    <tr>\n",
              "      <th>545</th>\n",
              "      <td>0.298969</td>\n",
              "      <td>0.4</td>\n",
              "      <td>0.000000</td>\n",
              "      <td>1.000000</td>\n",
              "      <td>1.0</td>\n",
              "      <td>0.0</td>\n",
              "      <td>0.0</td>\n",
              "      <td>0.0</td>\n",
              "      <td>1.0</td>\n",
              "      <td>0.333333</td>\n",
              "      <td>0.0</td>\n",
              "    </tr>\n",
              "  </tbody>\n",
              "</table>\n",
              "<p>546 rows × 11 columns</p>\n",
              "</div>"
            ],
            "text/plain": [
              "      lotsize  bedrooms   bathrms   stories  ...  gashw  airco  garagepl  prefarea\n",
              "0    0.288660       0.4  0.000000  1.000000  ...    0.0    0.0  0.333333       0.0\n",
              "1    0.161512       0.2  0.000000  0.333333  ...    0.0    0.0  0.000000       0.0\n",
              "2    0.096907       0.4  0.000000  0.333333  ...    0.0    0.0  0.000000       0.0\n",
              "3    0.343643       0.4  0.000000  1.000000  ...    0.0    0.0  0.000000       0.0\n",
              "4    0.323711       0.2  0.000000  0.333333  ...    0.0    0.0  0.000000       0.0\n",
              "..        ...       ...       ...       ...  ...    ...    ...       ...       ...\n",
              "541  0.216495       0.4  0.333333  0.000000  ...    0.0    1.0  0.000000       0.0\n",
              "542  0.298969       0.4  0.333333  0.000000  ...    0.0    1.0  0.000000       0.0\n",
              "543  0.298969       0.4  0.333333  0.000000  ...    0.0    1.0  0.333333       0.0\n",
              "544  0.298969       0.4  0.333333  1.000000  ...    0.0    1.0  0.333333       0.0\n",
              "545  0.298969       0.4  0.000000  1.000000  ...    0.0    1.0  0.333333       0.0\n",
              "\n",
              "[546 rows x 11 columns]"
            ]
          },
          "metadata": {
            "tags": []
          },
          "execution_count": 14
        }
      ]
    },
    {
      "cell_type": "code",
      "metadata": {
        "id": "CYn4B_Wt4HcV",
        "colab_type": "code",
        "colab": {
          "base_uri": "https://localhost:8080/",
          "height": 417
        },
        "outputId": "5d611263-01b1-4fdd-86f1-0f74d5db619e"
      },
      "source": [
        "# Plot the normalized data to see all observations in the dataset\n",
        "Xnorm.corr()"
      ],
      "execution_count": null,
      "outputs": [
        {
          "output_type": "execute_result",
          "data": {
            "text/html": [
              "<div>\n",
              "<style scoped>\n",
              "    .dataframe tbody tr th:only-of-type {\n",
              "        vertical-align: middle;\n",
              "    }\n",
              "\n",
              "    .dataframe tbody tr th {\n",
              "        vertical-align: top;\n",
              "    }\n",
              "\n",
              "    .dataframe thead th {\n",
              "        text-align: right;\n",
              "    }\n",
              "</style>\n",
              "<table border=\"1\" class=\"dataframe\">\n",
              "  <thead>\n",
              "    <tr style=\"text-align: right;\">\n",
              "      <th></th>\n",
              "      <th>lotsize</th>\n",
              "      <th>bedrooms</th>\n",
              "      <th>bathrms</th>\n",
              "      <th>stories</th>\n",
              "      <th>driveway</th>\n",
              "      <th>recroom</th>\n",
              "      <th>fullbase</th>\n",
              "      <th>gashw</th>\n",
              "      <th>airco</th>\n",
              "      <th>garagepl</th>\n",
              "      <th>prefarea</th>\n",
              "    </tr>\n",
              "  </thead>\n",
              "  <tbody>\n",
              "    <tr>\n",
              "      <th>lotsize</th>\n",
              "      <td>1.000000</td>\n",
              "      <td>0.151851</td>\n",
              "      <td>0.193833</td>\n",
              "      <td>-0.187664</td>\n",
              "      <td>0.288778</td>\n",
              "      <td>0.140327</td>\n",
              "      <td>0.047487</td>\n",
              "      <td>-0.009201</td>\n",
              "      <td>0.221765</td>\n",
              "      <td>0.352872</td>\n",
              "      <td>0.234782</td>\n",
              "    </tr>\n",
              "    <tr>\n",
              "      <th>bedrooms</th>\n",
              "      <td>0.151851</td>\n",
              "      <td>1.000000</td>\n",
              "      <td>0.373769</td>\n",
              "      <td>0.339580</td>\n",
              "      <td>-0.011996</td>\n",
              "      <td>0.080492</td>\n",
              "      <td>0.097201</td>\n",
              "      <td>0.046028</td>\n",
              "      <td>0.160412</td>\n",
              "      <td>0.139117</td>\n",
              "      <td>0.078953</td>\n",
              "    </tr>\n",
              "    <tr>\n",
              "      <th>bathrms</th>\n",
              "      <td>0.193833</td>\n",
              "      <td>0.373769</td>\n",
              "      <td>1.000000</td>\n",
              "      <td>0.014685</td>\n",
              "      <td>0.041955</td>\n",
              "      <td>0.126892</td>\n",
              "      <td>0.102791</td>\n",
              "      <td>0.067365</td>\n",
              "      <td>0.184955</td>\n",
              "      <td>0.178178</td>\n",
              "      <td>0.064013</td>\n",
              "    </tr>\n",
              "    <tr>\n",
              "      <th>stories</th>\n",
              "      <td>-0.187664</td>\n",
              "      <td>0.339580</td>\n",
              "      <td>0.014685</td>\n",
              "      <td>1.000000</td>\n",
              "      <td>-0.054394</td>\n",
              "      <td>-0.019728</td>\n",
              "      <td>0.100340</td>\n",
              "      <td>0.084305</td>\n",
              "      <td>-0.116403</td>\n",
              "      <td>-0.089589</td>\n",
              "      <td>-0.017673</td>\n",
              "    </tr>\n",
              "    <tr>\n",
              "      <th>driveway</th>\n",
              "      <td>0.288778</td>\n",
              "      <td>-0.011996</td>\n",
              "      <td>0.041955</td>\n",
              "      <td>-0.054394</td>\n",
              "      <td>1.000000</td>\n",
              "      <td>0.091959</td>\n",
              "      <td>0.043428</td>\n",
              "      <td>-0.011942</td>\n",
              "      <td>0.106290</td>\n",
              "      <td>0.203682</td>\n",
              "      <td>0.199378</td>\n",
              "    </tr>\n",
              "    <tr>\n",
              "      <th>recroom</th>\n",
              "      <td>0.140327</td>\n",
              "      <td>0.080492</td>\n",
              "      <td>0.126892</td>\n",
              "      <td>-0.019728</td>\n",
              "      <td>0.091959</td>\n",
              "      <td>1.000000</td>\n",
              "      <td>0.372434</td>\n",
              "      <td>-0.010119</td>\n",
              "      <td>0.136626</td>\n",
              "      <td>0.038122</td>\n",
              "      <td>0.161292</td>\n",
              "    </tr>\n",
              "    <tr>\n",
              "      <th>fullbase</th>\n",
              "      <td>0.047487</td>\n",
              "      <td>0.097201</td>\n",
              "      <td>0.102791</td>\n",
              "      <td>0.100340</td>\n",
              "      <td>0.043428</td>\n",
              "      <td>0.372434</td>\n",
              "      <td>1.000000</td>\n",
              "      <td>0.004677</td>\n",
              "      <td>0.045248</td>\n",
              "      <td>0.052524</td>\n",
              "      <td>0.228651</td>\n",
              "    </tr>\n",
              "    <tr>\n",
              "      <th>gashw</th>\n",
              "      <td>-0.009201</td>\n",
              "      <td>0.046028</td>\n",
              "      <td>0.067365</td>\n",
              "      <td>0.084305</td>\n",
              "      <td>-0.011942</td>\n",
              "      <td>-0.010119</td>\n",
              "      <td>0.004677</td>\n",
              "      <td>1.000000</td>\n",
              "      <td>-0.130350</td>\n",
              "      <td>0.068144</td>\n",
              "      <td>-0.059170</td>\n",
              "    </tr>\n",
              "    <tr>\n",
              "      <th>airco</th>\n",
              "      <td>0.221765</td>\n",
              "      <td>0.160412</td>\n",
              "      <td>0.184955</td>\n",
              "      <td>-0.116403</td>\n",
              "      <td>0.106290</td>\n",
              "      <td>0.136626</td>\n",
              "      <td>0.045248</td>\n",
              "      <td>-0.130350</td>\n",
              "      <td>1.000000</td>\n",
              "      <td>0.156596</td>\n",
              "      <td>0.115626</td>\n",
              "    </tr>\n",
              "    <tr>\n",
              "      <th>garagepl</th>\n",
              "      <td>0.352872</td>\n",
              "      <td>0.139117</td>\n",
              "      <td>0.178178</td>\n",
              "      <td>-0.089589</td>\n",
              "      <td>0.203682</td>\n",
              "      <td>0.038122</td>\n",
              "      <td>0.052524</td>\n",
              "      <td>0.068144</td>\n",
              "      <td>0.156596</td>\n",
              "      <td>1.000000</td>\n",
              "      <td>0.092364</td>\n",
              "    </tr>\n",
              "    <tr>\n",
              "      <th>prefarea</th>\n",
              "      <td>0.234782</td>\n",
              "      <td>0.078953</td>\n",
              "      <td>0.064013</td>\n",
              "      <td>-0.017673</td>\n",
              "      <td>0.199378</td>\n",
              "      <td>0.161292</td>\n",
              "      <td>0.228651</td>\n",
              "      <td>-0.059170</td>\n",
              "      <td>0.115626</td>\n",
              "      <td>0.092364</td>\n",
              "      <td>1.000000</td>\n",
              "    </tr>\n",
              "  </tbody>\n",
              "</table>\n",
              "</div>"
            ],
            "text/plain": [
              "           lotsize  bedrooms   bathrms  ...     airco  garagepl  prefarea\n",
              "lotsize   1.000000  0.151851  0.193833  ...  0.221765  0.352872  0.234782\n",
              "bedrooms  0.151851  1.000000  0.373769  ...  0.160412  0.139117  0.078953\n",
              "bathrms   0.193833  0.373769  1.000000  ...  0.184955  0.178178  0.064013\n",
              "stories  -0.187664  0.339580  0.014685  ... -0.116403 -0.089589 -0.017673\n",
              "driveway  0.288778 -0.011996  0.041955  ...  0.106290  0.203682  0.199378\n",
              "recroom   0.140327  0.080492  0.126892  ...  0.136626  0.038122  0.161292\n",
              "fullbase  0.047487  0.097201  0.102791  ...  0.045248  0.052524  0.228651\n",
              "gashw    -0.009201  0.046028  0.067365  ... -0.130350  0.068144 -0.059170\n",
              "airco     0.221765  0.160412  0.184955  ...  1.000000  0.156596  0.115626\n",
              "garagepl  0.352872  0.139117  0.178178  ...  0.156596  1.000000  0.092364\n",
              "prefarea  0.234782  0.078953  0.064013  ...  0.115626  0.092364  1.000000\n",
              "\n",
              "[11 rows x 11 columns]"
            ]
          },
          "metadata": {
            "tags": []
          },
          "execution_count": 15
        }
      ]
    },
    {
      "cell_type": "code",
      "metadata": {
        "id": "NHuGcf1y7R72",
        "colab_type": "code",
        "colab": {
          "base_uri": "https://localhost:8080/",
          "height": 607
        },
        "outputId": "6f06616c-8f8c-44b5-c460-54e06792bf6e"
      },
      "source": [
        "#Set up the matplotlib figure\n",
        "import seaborn as sns \n",
        "\n",
        "corr = data.corr()\n",
        "size = max(10, len(corr.columns)/2.)\n",
        "f, ax = plt.subplots(figsize=(size, size))\n",
        "\n",
        "#Draw the heatmap with the mask and correct aspect ratio\n",
        "\n",
        "sns.heatmap(corr, annot=True, square=True, linewidths=.5, cbar_kws={\"shrink\": 0.5}, ax=ax)"
      ],
      "execution_count": null,
      "outputs": [
        {
          "output_type": "stream",
          "text": [
            "/usr/local/lib/python3.6/dist-packages/statsmodels/tools/_testing.py:19: FutureWarning: pandas.util.testing is deprecated. Use the functions in the public API at pandas.testing instead.\n",
            "  import pandas.util.testing as tm\n"
          ],
          "name": "stderr"
        },
        {
          "output_type": "execute_result",
          "data": {
            "text/plain": [
              "<matplotlib.axes._subplots.AxesSubplot at 0x7f9d56626a90>"
            ]
          },
          "metadata": {
            "tags": []
          },
          "execution_count": 16
        },
        {
          "output_type": "display_data",
          "data": {
            "image/png": "[encoded data removed]",
            "text/plain": [
              "<Figure size 720x720 with 2 Axes>"
            ]
          },
          "metadata": {
            "tags": [],
            "needs_background": "light"
          }
        }
      ]
    },
    {
      "cell_type": "code",
      "metadata": {
        "id": "Do8_w6Wg9-d9",
        "colab_type": "code",
        "colab": {
          "base_uri": "https://localhost:8080/",
          "height": 572
        },
        "outputId": "f0c8573f-7025-4719-8a72-7b79aeda51d8"
      },
      "source": [
        "#Set up the matplotlib figure\n",
        "import seaborn as sns \n",
        "\n",
        "corr = Xnorm.corr()\n",
        "size = max(10, len(corr.columns)/2.)\n",
        "f, ax = plt.subplots(figsize=(size, size))\n",
        "\n",
        "#Draw the heatmap with the mask and correct aspect ratio\n",
        "\n",
        "sns.heatmap(corr, annot=True, square=True, linewidths=.5, cbar_kws={\"shrink\": 0.5}, ax=ax)"
      ],
      "execution_count": null,
      "outputs": [
        {
          "output_type": "execute_result",
          "data": {
            "text/plain": [
              "<matplotlib.axes._subplots.AxesSubplot at 0x7f9d537680b8>"
            ]
          },
          "metadata": {
            "tags": []
          },
          "execution_count": 17
        },
        {
          "output_type": "display_data",
          "data": {
            "image/png": "[encoded data removed]",
            "text/plain": [
              "<Figure size 720x720 with 2 Axes>"
            ]
          },
          "metadata": {
            "tags": [],
            "needs_background": "light"
          }
        }
      ]
    },
    {
      "cell_type": "code",
      "metadata": {
        "id": "dzoooBXM-Ich",
        "colab_type": "code",
        "colab": {
          "base_uri": "https://localhost:8080/",
          "height": 266
        },
        "outputId": "c200908e-0253-48f6-d3be-eef0e3263c58"
      },
      "source": [
        "#Normalization using MinMaxScaler library\n",
        "from sklearn.preprocessing import MinMaxScaler # Normalization\n",
        "from sklearn.preprocessing import StandardScaler # Standardization\n",
        "\n",
        "mm = MinMaxScaler()\n",
        "mm.fit_transform(data)"
      ],
      "execution_count": null,
      "outputs": [
        {
          "output_type": "execute_result",
          "data": {
            "text/plain": [
              "array([[0.1030303 , 0.28865979, 0.4       , ..., 0.        , 0.33333333,\n",
              "        0.        ],\n",
              "       [0.08181818, 0.16151203, 0.2       , ..., 0.        , 0.        ,\n",
              "        0.        ],\n",
              "       [0.14848485, 0.09690722, 0.4       , ..., 0.        , 0.        ,\n",
              "        0.        ],\n",
              "       ...,\n",
              "       [0.47272727, 0.29896907, 0.4       , ..., 1.        , 0.33333333,\n",
              "        0.        ],\n",
              "       [0.48484848, 0.29896907, 0.4       , ..., 1.        , 0.33333333,\n",
              "        0.        ],\n",
              "       [0.48484848, 0.29896907, 0.4       , ..., 1.        , 0.33333333,\n",
              "        0.        ]])"
            ]
          },
          "metadata": {
            "tags": []
          },
          "execution_count": 18
        }
      ]
    },
    {
      "cell_type": "code",
      "metadata": {
        "id": "eWGNMHbd--L4",
        "colab_type": "code",
        "colab": {
          "base_uri": "https://localhost:8080/",
          "height": 447
        },
        "outputId": "8a50bbd8-7589-4b9a-dca6-21de20c86777"
      },
      "source": [
        "# Standardization = (X - mu) / sigma ----> ((X - Xmean) / Xstd)\n",
        "Xstd = (X - X.mean()) / X.std()\n",
        "Xstd"
      ],
      "execution_count": null,
      "outputs": [
        {
          "output_type": "execute_result",
          "data": {
            "text/html": [
              "<div>\n",
              "<style scoped>\n",
              "    .dataframe tbody tr th:only-of-type {\n",
              "        vertical-align: middle;\n",
              "    }\n",
              "\n",
              "    .dataframe tbody tr th {\n",
              "        vertical-align: top;\n",
              "    }\n",
              "\n",
              "    .dataframe thead th {\n",
              "        text-align: right;\n",
              "    }\n",
              "</style>\n",
              "<table border=\"1\" class=\"dataframe\">\n",
              "  <thead>\n",
              "    <tr style=\"text-align: right;\">\n",
              "      <th></th>\n",
              "      <th>lotsize</th>\n",
              "      <th>bedrooms</th>\n",
              "      <th>bathrms</th>\n",
              "      <th>stories</th>\n",
              "      <th>driveway</th>\n",
              "      <th>recroom</th>\n",
              "      <th>fullbase</th>\n",
              "      <th>gashw</th>\n",
              "      <th>airco</th>\n",
              "      <th>garagepl</th>\n",
              "      <th>prefarea</th>\n",
              "    </tr>\n",
              "  </thead>\n",
              "  <tbody>\n",
              "    <tr>\n",
              "      <th>0</th>\n",
              "      <td>0.322732</td>\n",
              "      <td>0.047192</td>\n",
              "      <td>-0.568973</td>\n",
              "      <td>1.059684</td>\n",
              "      <td>0.404819</td>\n",
              "      <td>-0.464371</td>\n",
              "      <td>1.362070</td>\n",
              "      <td>-0.218853</td>\n",
              "      <td>-0.680410</td>\n",
              "      <td>0.357239</td>\n",
              "      <td>-0.552865</td>\n",
              "    </tr>\n",
              "    <tr>\n",
              "      <th>1</th>\n",
              "      <td>-0.530526</td>\n",
              "      <td>-1.308947</td>\n",
              "      <td>-0.568973</td>\n",
              "      <td>-0.815802</td>\n",
              "      <td>0.404819</td>\n",
              "      <td>-0.464371</td>\n",
              "      <td>-0.732832</td>\n",
              "      <td>-0.218853</td>\n",
              "      <td>-0.680410</td>\n",
              "      <td>-0.803788</td>\n",
              "      <td>-0.552865</td>\n",
              "    </tr>\n",
              "    <tr>\n",
              "      <th>2</th>\n",
              "      <td>-0.964074</td>\n",
              "      <td>0.047192</td>\n",
              "      <td>-0.568973</td>\n",
              "      <td>-0.815802</td>\n",
              "      <td>0.404819</td>\n",
              "      <td>-0.464371</td>\n",
              "      <td>-0.732832</td>\n",
              "      <td>-0.218853</td>\n",
              "      <td>-0.680410</td>\n",
              "      <td>-0.803788</td>\n",
              "      <td>-0.552865</td>\n",
              "    </tr>\n",
              "    <tr>\n",
              "      <th>3</th>\n",
              "      <td>0.691709</td>\n",
              "      <td>0.047192</td>\n",
              "      <td>-0.568973</td>\n",
              "      <td>1.059684</td>\n",
              "      <td>0.404819</td>\n",
              "      <td>2.149509</td>\n",
              "      <td>-0.732832</td>\n",
              "      <td>-0.218853</td>\n",
              "      <td>-0.680410</td>\n",
              "      <td>-0.803788</td>\n",
              "      <td>-0.552865</td>\n",
              "    </tr>\n",
              "    <tr>\n",
              "      <th>4</th>\n",
              "      <td>0.557955</td>\n",
              "      <td>-1.308947</td>\n",
              "      <td>-0.568973</td>\n",
              "      <td>-0.815802</td>\n",
              "      <td>0.404819</td>\n",
              "      <td>-0.464371</td>\n",
              "      <td>-0.732832</td>\n",
              "      <td>-0.218853</td>\n",
              "      <td>-0.680410</td>\n",
              "      <td>-0.803788</td>\n",
              "      <td>-0.552865</td>\n",
              "    </tr>\n",
              "    <tr>\n",
              "      <th>...</th>\n",
              "      <td>...</td>\n",
              "      <td>...</td>\n",
              "      <td>...</td>\n",
              "      <td>...</td>\n",
              "      <td>...</td>\n",
              "      <td>...</td>\n",
              "      <td>...</td>\n",
              "      <td>...</td>\n",
              "      <td>...</td>\n",
              "      <td>...</td>\n",
              "      <td>...</td>\n",
              "    </tr>\n",
              "    <tr>\n",
              "      <th>541</th>\n",
              "      <td>-0.161550</td>\n",
              "      <td>0.047192</td>\n",
              "      <td>1.422433</td>\n",
              "      <td>-1.753545</td>\n",
              "      <td>0.404819</td>\n",
              "      <td>2.149509</td>\n",
              "      <td>-0.732832</td>\n",
              "      <td>-0.218853</td>\n",
              "      <td>1.467011</td>\n",
              "      <td>-0.803788</td>\n",
              "      <td>-0.552865</td>\n",
              "    </tr>\n",
              "    <tr>\n",
              "      <th>542</th>\n",
              "      <td>0.391915</td>\n",
              "      <td>0.047192</td>\n",
              "      <td>1.422433</td>\n",
              "      <td>-1.753545</td>\n",
              "      <td>0.404819</td>\n",
              "      <td>-0.464371</td>\n",
              "      <td>-0.732832</td>\n",
              "      <td>-0.218853</td>\n",
              "      <td>1.467011</td>\n",
              "      <td>-0.803788</td>\n",
              "      <td>-0.552865</td>\n",
              "    </tr>\n",
              "    <tr>\n",
              "      <th>543</th>\n",
              "      <td>0.391915</td>\n",
              "      <td>0.047192</td>\n",
              "      <td>1.422433</td>\n",
              "      <td>-1.753545</td>\n",
              "      <td>0.404819</td>\n",
              "      <td>2.149509</td>\n",
              "      <td>-0.732832</td>\n",
              "      <td>-0.218853</td>\n",
              "      <td>1.467011</td>\n",
              "      <td>0.357239</td>\n",
              "      <td>-0.552865</td>\n",
              "    </tr>\n",
              "    <tr>\n",
              "      <th>544</th>\n",
              "      <td>0.391915</td>\n",
              "      <td>0.047192</td>\n",
              "      <td>1.422433</td>\n",
              "      <td>1.059684</td>\n",
              "      <td>0.404819</td>\n",
              "      <td>2.149509</td>\n",
              "      <td>-0.732832</td>\n",
              "      <td>-0.218853</td>\n",
              "      <td>1.467011</td>\n",
              "      <td>0.357239</td>\n",
              "      <td>-0.552865</td>\n",
              "    </tr>\n",
              "    <tr>\n",
              "      <th>545</th>\n",
              "      <td>0.391915</td>\n",
              "      <td>0.047192</td>\n",
              "      <td>-0.568973</td>\n",
              "      <td>1.059684</td>\n",
              "      <td>0.404819</td>\n",
              "      <td>-0.464371</td>\n",
              "      <td>-0.732832</td>\n",
              "      <td>-0.218853</td>\n",
              "      <td>1.467011</td>\n",
              "      <td>0.357239</td>\n",
              "      <td>-0.552865</td>\n",
              "    </tr>\n",
              "  </tbody>\n",
              "</table>\n",
              "<p>546 rows × 11 columns</p>\n",
              "</div>"
            ],
            "text/plain": [
              "      lotsize  bedrooms   bathrms  ...     airco  garagepl  prefarea\n",
              "0    0.322732  0.047192 -0.568973  ... -0.680410  0.357239 -0.552865\n",
              "1   -0.530526 -1.308947 -0.568973  ... -0.680410 -0.803788 -0.552865\n",
              "2   -0.964074  0.047192 -0.568973  ... -0.680410 -0.803788 -0.552865\n",
              "3    0.691709  0.047192 -0.568973  ... -0.680410 -0.803788 -0.552865\n",
              "4    0.557955 -1.308947 -0.568973  ... -0.680410 -0.803788 -0.552865\n",
              "..        ...       ...       ...  ...       ...       ...       ...\n",
              "541 -0.161550  0.047192  1.422433  ...  1.467011 -0.803788 -0.552865\n",
              "542  0.391915  0.047192  1.422433  ...  1.467011 -0.803788 -0.552865\n",
              "543  0.391915  0.047192  1.422433  ...  1.467011  0.357239 -0.552865\n",
              "544  0.391915  0.047192  1.422433  ...  1.467011  0.357239 -0.552865\n",
              "545  0.391915  0.047192 -0.568973  ...  1.467011  0.357239 -0.552865\n",
              "\n",
              "[546 rows x 11 columns]"
            ]
          },
          "metadata": {
            "tags": []
          },
          "execution_count": 19
        }
      ]
    },
    {
      "cell_type": "code",
      "metadata": {
        "id": "3QBk4TZR_c86",
        "colab_type": "code",
        "colab": {
          "base_uri": "https://localhost:8080/",
          "height": 266
        },
        "outputId": "7a8e1646-9ef9-475a-dadf-145a846cb0c3"
      },
      "source": [
        "ss = StandardScaler()\n",
        "Xstd = ss.fit_transform(X)\n",
        "Xstd"
      ],
      "execution_count": null,
      "outputs": [
        {
          "output_type": "execute_result",
          "data": {
            "text/plain": [
              "array([[ 0.32302806,  0.0472349 , -0.5694948 , ..., -0.68103375,\n",
              "         0.35756661, -0.55337157],\n",
              "       [-0.53101296, -1.31014696, -0.5694948 , ..., -0.68103375,\n",
              "        -0.80452487, -0.55337157],\n",
              "       [-0.96495812,  0.0472349 , -0.5694948 , ..., -0.68103375,\n",
              "        -0.80452487, -0.55337157],\n",
              "       ...,\n",
              "       [ 0.39227462,  0.0472349 ,  1.42373699, ...,  1.46835601,\n",
              "         0.35756661, -0.55337157],\n",
              "       [ 0.39227462,  0.0472349 ,  1.42373699, ...,  1.46835601,\n",
              "         0.35756661, -0.55337157],\n",
              "       [ 0.39227462,  0.0472349 , -0.5694948 , ...,  1.46835601,\n",
              "         0.35756661, -0.55337157]])"
            ]
          },
          "metadata": {
            "tags": []
          },
          "execution_count": 20
        }
      ]
    },
    {
      "cell_type": "code",
      "metadata": {
        "id": "aF40Mz2t90Ki",
        "colab_type": "code",
        "colab": {
          "base_uri": "https://localhost:8080/",
          "height": 316
        },
        "outputId": "8fddca00-22e6-46c0-9cf7-2265e82a5451"
      },
      "source": [
        "# Implement the graphs using Dataiku \n",
        "import matplotlib.pyplot as plt\n",
        "plt.scatter(data[\"lotsize\"], data[\"price\"], color=\"red\")\n",
        "plt.xlabel(\"Lotsize (in square meters)\")\n",
        "plt.ylabel(\"Price (in USD)\")"
      ],
      "execution_count": null,
      "outputs": [
        {
          "output_type": "execute_result",
          "data": {
            "text/plain": [
              "Text(0, 0.5, 'Price (in USD)')"
            ]
          },
          "metadata": {
            "tags": []
          },
          "execution_count": 21
        },
        {
          "output_type": "display_data",
          "data": {
            "image/png": "[encoded data removed]",
            "text/plain": [
              "<Figure size 432x288 with 1 Axes>"
            ]
          },
          "metadata": {
            "tags": [],
            "needs_background": "light"
          }
        }
      ]
    },
    {
      "cell_type": "code",
      "metadata": {
        "id": "amjwTrmSFx8K",
        "colab_type": "code",
        "colab": {
          "base_uri": "https://localhost:8080/",
          "height": 332
        },
        "outputId": "43055632-f927-40c0-8b2a-c1ea85849bb1"
      },
      "source": [
        "plt.plot(sorted(data[\"lotsize\"]),data[\"price\"])\n",
        "plt.scatter(sorted(data[\"lotsize\"]),data[\"price\"])\n",
        "plt.xlabel(\"Lotsize\")\n",
        "plt.ylabel(\"Price\")\n",
        "plt.title(\"Comparison of Price with Lotsize\")"
      ],
      "execution_count": null,
      "outputs": [
        {
          "output_type": "execute_result",
          "data": {
            "text/plain": [
              "Text(0.5, 1.0, 'Comparison of Price with Lotsize')"
            ]
          },
          "metadata": {
            "tags": []
          },
          "execution_count": 22
        },
        {
          "output_type": "display_data",
          "data": {
            "image/png": "[encoded data removed]",
            "text/plain": [
              "<Figure size 432x288 with 1 Axes>"
            ]
          },
          "metadata": {
            "tags": [],
            "needs_background": "light"
          }
        }
      ]
    },
    {
      "cell_type": "code",
      "metadata": {
        "id": "TVrk0yPQKIyV",
        "colab_type": "code",
        "colab": {}
      },
      "source": [
        "# Machine Learning \n",
        "# Step 1 - Selection of Independent and Dependent variables\n",
        "Y = data.price # Dependent variable\n",
        "independent = data.columns\n",
        "independent = independent.delete(0)\n",
        "X = data[independent] # Independent variables"
      ],
      "execution_count": null,
      "outputs": []
    },
    {
      "cell_type": "code",
      "metadata": {
        "id": "vMCYvpsLKt4M",
        "colab_type": "code",
        "colab": {
          "base_uri": "https://localhost:8080/",
          "height": 125
        },
        "outputId": "a29392db-56dd-4c67-d90c-4eb325a06ff6"
      },
      "source": [
        "# Since the price is quantitative in nature, use regression equation (Y = mX + c)\n",
        "import sklearn.linear_model as lm\n",
        "model = lm.LinearRegression()\n",
        "\n",
        "# Train the model\n",
        "model = model.fit(X, Y)\n",
        "\n",
        "# Objective of training the model with input dataset of dependent and independent variables\n",
        "# is to calculate the attributes (slope, intercept), which can help in prediction of response\n",
        "# variable\n",
        "# Print the slope and intercept\n",
        "print(\"The slope(m) of equation is\", model.coef_)\n",
        "print(\"The intercept/residue (c) is\", model.intercept_)\n",
        "\n",
        "# Predict using the model\n",
        "Ypred = model.predict(X)\n",
        "\n",
        "# Interpretation and Evaluation\n",
        "from sklearn.metrics import r2_score, mean_absolute_error, mean_squared_error\n",
        "r2 = r2_score(Y, Ypred)\n",
        "print(\"The Rsquared value is\", r2)"
      ],
      "execution_count": null,
      "outputs": [
        {
          "output_type": "stream",
          "text": [
            "The slope(m) of equation is [ 3.31458468e+00  4.75489494e+03  1.64296684e+04 -5.00166067e+02\n",
            "  8.86502893e+03  5.26142983e+03  2.43697123e+03  1.37334959e+04\n",
            "  1.52367865e+04  3.75996952e+03  9.73890850e+03]\n",
            "The intercept/residue (c) is -2981.997865242549\n",
            "The Rsquared value is 0.642699925304296\n"
          ],
          "name": "stdout"
        }
      ]
    },
    {
      "cell_type": "code",
      "metadata": {
        "id": "yQ03QPCiPFUF",
        "colab_type": "code",
        "colab": {}
      },
      "source": [
        "data[\"predicted_price\"] = Ypred"
      ],
      "execution_count": null,
      "outputs": []
    },
    {
      "cell_type": "code",
      "metadata": {
        "id": "VoYnK5kLPUmF",
        "colab_type": "code",
        "colab": {
          "base_uri": "https://localhost:8080/",
          "height": 447
        },
        "outputId": "043b962e-0712-4525-a8a1-e934ada1fc05"
      },
      "source": [
        "data[[\"price\", \"lotsize\", \"predicted_price\"]]"
      ],
      "execution_count": null,
      "outputs": [
        {
          "output_type": "execute_result",
          "data": {
            "text/html": [
              "<div>\n",
              "<style scoped>\n",
              "    .dataframe tbody tr th:only-of-type {\n",
              "        vertical-align: middle;\n",
              "    }\n",
              "\n",
              "    .dataframe tbody tr th {\n",
              "        vertical-align: top;\n",
              "    }\n",
              "\n",
              "    .dataframe thead th {\n",
              "        text-align: right;\n",
              "    }\n",
              "</style>\n",
              "<table border=\"1\" class=\"dataframe\">\n",
              "  <thead>\n",
              "    <tr style=\"text-align: right;\">\n",
              "      <th></th>\n",
              "      <th>price</th>\n",
              "      <th>lotsize</th>\n",
              "      <th>predicted_price</th>\n",
              "    </tr>\n",
              "  </thead>\n",
              "  <tbody>\n",
              "    <tr>\n",
              "      <th>0</th>\n",
              "      <td>42000.0</td>\n",
              "      <td>5850</td>\n",
              "      <td>60664.147210</td>\n",
              "    </tr>\n",
              "    <tr>\n",
              "      <th>1</th>\n",
              "      <td>38500.0</td>\n",
              "      <td>4000</td>\n",
              "      <td>44580.661992</td>\n",
              "    </tr>\n",
              "    <tr>\n",
              "      <th>2</th>\n",
              "      <td>49500.0</td>\n",
              "      <td>3060</td>\n",
              "      <td>46219.847333</td>\n",
              "    </tr>\n",
              "    <tr>\n",
              "      <th>3</th>\n",
              "      <td>60500.0</td>\n",
              "      <td>6650</td>\n",
              "      <td>62380.304041</td>\n",
              "    </tr>\n",
              "    <tr>\n",
              "      <th>4</th>\n",
              "      <td>61000.0</td>\n",
              "      <td>6360</td>\n",
              "      <td>52403.081847</td>\n",
              "    </tr>\n",
              "    <tr>\n",
              "      <th>...</th>\n",
              "      <td>...</td>\n",
              "      <td>...</td>\n",
              "      <td>...</td>\n",
              "    </tr>\n",
              "    <tr>\n",
              "      <th>541</th>\n",
              "      <td>91500.0</td>\n",
              "      <td>4800</td>\n",
              "      <td>89415.275438</td>\n",
              "    </tr>\n",
              "    <tr>\n",
              "      <th>542</th>\n",
              "      <td>94000.0</td>\n",
              "      <td>6000</td>\n",
              "      <td>88131.347233</td>\n",
              "    </tr>\n",
              "    <tr>\n",
              "      <th>543</th>\n",
              "      <td>103000.0</td>\n",
              "      <td>6000</td>\n",
              "      <td>97152.746575</td>\n",
              "    </tr>\n",
              "    <tr>\n",
              "      <th>544</th>\n",
              "      <td>105000.0</td>\n",
              "      <td>6000</td>\n",
              "      <td>95652.248373</td>\n",
              "    </tr>\n",
              "    <tr>\n",
              "      <th>545</th>\n",
              "      <td>105000.0</td>\n",
              "      <td>6000</td>\n",
              "      <td>73961.150176</td>\n",
              "    </tr>\n",
              "  </tbody>\n",
              "</table>\n",
              "<p>546 rows × 3 columns</p>\n",
              "</div>"
            ],
            "text/plain": [
              "        price  lotsize  predicted_price\n",
              "0     42000.0     5850     60664.147210\n",
              "1     38500.0     4000     44580.661992\n",
              "2     49500.0     3060     46219.847333\n",
              "3     60500.0     6650     62380.304041\n",
              "4     61000.0     6360     52403.081847\n",
              "..        ...      ...              ...\n",
              "541   91500.0     4800     89415.275438\n",
              "542   94000.0     6000     88131.347233\n",
              "543  103000.0     6000     97152.746575\n",
              "544  105000.0     6000     95652.248373\n",
              "545  105000.0     6000     73961.150176\n",
              "\n",
              "[546 rows x 3 columns]"
            ]
          },
          "metadata": {
            "tags": []
          },
          "execution_count": 38
        }
      ]
    },
    {
      "cell_type": "code",
      "metadata": {
        "id": "-tqdhCcnQIug",
        "colab_type": "code",
        "colab": {
          "base_uri": "https://localhost:8080/",
          "height": 332
        },
        "outputId": "081a4f36-a369-48a8-89f1-92ffbe589976"
      },
      "source": [
        "# Interpretation and Evaluation using Graphs\n",
        "plt.scatter(data[\"price\"], data[\"lotsize\"], color=\"green\")\n",
        "plt.scatter(data[\"predicted_price\"], data[\"lotsize\"], color=\"red\")\n",
        "plt.xlabel(\"Price in USD\")\n",
        "plt.ylabel(\"Lotsize in Sq mtrs\")\n",
        "plt.title(\"Machine Learning with actual vs predicted\")"
      ],
      "execution_count": null,
      "outputs": [
        {
          "output_type": "execute_result",
          "data": {
            "text/plain": [
              "Text(0.5, 1.0, 'Machine Learning with actual vs predicted')"
            ]
          },
          "metadata": {
            "tags": []
          },
          "execution_count": 40
        },
        {
          "output_type": "display_data",
          "data": {
            "image/png": "[encoded data removed]",
            "text/plain": [
              "<Figure size 432x288 with 1 Axes>"
            ]
          },
          "metadata": {
            "tags": [],
            "needs_background": "light"
          }
        }
      ]
    },
    {
      "cell_type": "code",
      "metadata": {
        "id": "MMLBs-utRHGE",
        "colab_type": "code",
        "colab": {
          "base_uri": "https://localhost:8080/",
          "height": 303
        },
        "outputId": "9fa88d21-1937-41b6-e371-5084d197b8db"
      },
      "source": [
        "# Compare the actual vs predicted model\n",
        "plt.plot(sorted(data[\"price\"]), data[\"lotsize\"])\n",
        "plt.plot(sorted(data[\"predicted_price\"]), data[\"lotsize\"])"
      ],
      "execution_count": null,
      "outputs": [
        {
          "output_type": "execute_result",
          "data": {
            "text/plain": [
              "[<matplotlib.lines.Line2D at 0x7f9d4f602da0>]"
            ]
          },
          "metadata": {
            "tags": []
          },
          "execution_count": 46
        },
        {
          "output_type": "display_data",
          "data": {
            "image/png": "[encoded data removed]",
            "text/plain": [
              "<Figure size 432x288 with 1 Axes>"
            ]
          },
          "metadata": {
            "tags": [],
            "needs_background": "light"
          }
        }
      ]
    },
    {
      "cell_type": "code",
      "metadata": {
        "id": "t6vEyJeASNJI",
        "colab_type": "code",
        "colab": {
          "base_uri": "https://localhost:8080/",
          "height": 248
        },
        "outputId": "baa06b86-139a-4d7b-e658-391f9ad1b6e4"
      },
      "source": [
        "# make a simple app which can predict price using the model\n",
        "user_data = {}\n",
        "for variable in independent:\n",
        "  temp = input(\"Enter \" + variable + \": \")\n",
        "  user_data[variable] = temp\n",
        "\n",
        "user_input = pd.DataFrame(data=user_data, index=[0], columns=independent)\n",
        "pred_price = model.predict(user_input)\n",
        "print(\"Predicted price of the house is USD\", int(pred_price[0]))"
      ],
      "execution_count": null,
      "outputs": [
        {
          "output_type": "stream",
          "text": [
            "Enter lotsize: 2500\n",
            "Enter bedrooms: 2\n",
            "Enter bathrms: 1\n",
            "Enter stories: 1\n",
            "Enter driveway: 0\n",
            "Enter recroom: 0\n",
            "Enter fullbase: 0\n",
            "Enter gashw: 0\n",
            "Enter airco: 0\n",
            "Enter garagepl: 0\n",
            "Enter prefarea: 0\n",
            "Predicted price of the house is USD 30743\n"
          ],
          "name": "stdout"
        }
      ]
    }
  ]
}