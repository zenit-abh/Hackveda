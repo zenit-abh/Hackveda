{
 "cells": [
  {
   "cell_type": "markdown",
   "metadata": {
    "slideshow": {
     "slide_type": "slide"
    }
   },
   "source": [
    "### Load tensorflow"
   ]
  },
  {
   "cell_type": "code",
   "execution_count": 1,
   "metadata": {},
   "outputs": [
    {
     "name": "stderr",
     "output_type": "stream",
     "text": [
      "C:\\Users\\Content_ACER\\Anaconda3\\lib\\site-packages\\h5py\\__init__.py:36: FutureWarning: Conversion of the second argument of issubdtype from `float` to `np.floating` is deprecated. In future, it will be treated as `np.float64 == np.dtype(float).type`.\n",
      "  from ._conv import register_converters as _register_converters\n"
     ]
    }
   ],
   "source": [
    "import tensorflow as tf\n",
    "tf.reset_default_graph()"
   ]
  },
  {
   "cell_type": "code",
   "execution_count": 2,
   "metadata": {},
   "outputs": [
    {
     "data": {
      "text/plain": [
       "'2.1.6-tf'"
      ]
     },
     "execution_count": 2,
     "metadata": {},
     "output_type": "execute_result"
    }
   ],
   "source": [
    "tf.keras.__version__"
   ]
  },
  {
   "cell_type": "code",
   "execution_count": 3,
   "metadata": {},
   "outputs": [
    {
     "name": "stderr",
     "output_type": "stream",
     "text": [
      "Using TensorFlow backend.\n"
     ]
    }
   ],
   "source": [
    "import keras"
   ]
  },
  {
   "cell_type": "code",
   "execution_count": 4,
   "metadata": {},
   "outputs": [
    {
     "data": {
      "text/plain": [
       "'2.2.2'"
      ]
     },
     "execution_count": 4,
     "metadata": {},
     "output_type": "execute_result"
    }
   ],
   "source": [
    "keras.__version__"
   ]
  },
  {
   "cell_type": "markdown",
   "metadata": {
    "slideshow": {
     "slide_type": "slide"
    }
   },
   "source": [
    "### Collect Data"
   ]
  },
  {
   "cell_type": "code",
   "execution_count": 5,
   "metadata": {},
   "outputs": [],
   "source": [
    "(features, actual_prices),_ = tf.keras.datasets.boston_housing.load_data(test_split=0)"
   ]
  },
  {
   "cell_type": "code",
   "execution_count": 6,
   "metadata": {
    "slideshow": {
     "slide_type": "fragment"
    }
   },
   "outputs": [
    {
     "name": "stdout",
     "output_type": "stream",
     "text": [
      "Number of examples:  506\n",
      "Number of features for each example:  13\n",
      "Shape of actual prices data:  (506,)\n"
     ]
    }
   ],
   "source": [
    "print('Number of examples: ', features.shape[0])\n",
    "print('Number of features for each example: ', features.shape[1])\n",
    "print('Shape of actual prices data: ', actual_prices.shape)"
   ]
  },
  {
   "cell_type": "markdown",
   "metadata": {
    "slideshow": {
     "slide_type": "slide"
    }
   },
   "source": [
    "### Building the graph in Keras"
   ]
  },
  {
   "cell_type": "code",
   "execution_count": 7,
   "metadata": {
    "slideshow": {
     "slide_type": "fragment"
    }
   },
   "outputs": [],
   "source": [
    "#Initialize Sequential Graph (model)\n",
    "model = tf.keras.models.Sequential()\n",
    "\n",
    "#Normalize input data\n",
    "model.add(tf.keras.layers.BatchNormalization(input_shape=(13,)))\n",
    "\n",
    "#Add Dense layer for prediction - Keras declares weights and bias automatically\n",
    "model.add(tf.keras.layers.Dense(1))\n",
    "\n",
    "#Compile the model - add Loss and Gradient Descent optimizer\n",
    "model.compile(optimizer='sgd', loss='mse')"
   ]
  },
  {
   "cell_type": "markdown",
   "metadata": {
    "slideshow": {
     "slide_type": "slide"
    }
   },
   "source": [
    "### Execute the Graph"
   ]
  },
  {
   "cell_type": "code",
   "execution_count": 8,
   "metadata": {
    "slideshow": {
     "slide_type": "fragment"
    }
   },
   "outputs": [
    {
     "name": "stdout",
     "output_type": "stream",
     "text": [
      "Epoch 1/100\n",
      "506/506 [==============================] - 0s 300us/step - loss: 222.9261\n",
      "Epoch 2/100\n",
      "506/506 [==============================] - 0s 39us/step - loss: 39.8200\n",
      "Epoch 3/100\n",
      "506/506 [==============================] - 0s 41us/step - loss: 34.4934\n",
      "Epoch 4/100\n",
      "506/506 [==============================] - 0s 69us/step - loss: 31.6480\n",
      "Epoch 5/100\n",
      "506/506 [==============================] - 0s 57us/step - loss: 31.6156\n",
      "Epoch 6/100\n",
      "506/506 [==============================] - 0s 45us/step - loss: 31.2939\n",
      "Epoch 7/100\n",
      "506/506 [==============================] - 0s 22us/step - loss: 26.4606\n",
      "Epoch 8/100\n",
      "506/506 [==============================] - 0s 35us/step - loss: 30.4103\n",
      "Epoch 9/100\n",
      "506/506 [==============================] - 0s 41us/step - loss: 27.9743\n",
      "Epoch 10/100\n",
      "506/506 [==============================] - 0s 35us/step - loss: 28.1670\n",
      "Epoch 11/100\n",
      "506/506 [==============================] - 0s 39us/step - loss: 28.4657\n",
      "Epoch 12/100\n",
      "506/506 [==============================] - 0s 35us/step - loss: 28.3959\n",
      "Epoch 13/100\n",
      "506/506 [==============================] - 0s 35us/step - loss: 28.8709\n",
      "Epoch 14/100\n",
      "506/506 [==============================] - 0s 35us/step - loss: 32.1881\n",
      "Epoch 15/100\n",
      "506/506 [==============================] - 0s 41us/step - loss: 26.0120\n",
      "Epoch 16/100\n",
      "506/506 [==============================] - 0s 59us/step - loss: 29.0092\n",
      "Epoch 17/100\n",
      "506/506 [==============================] - 0s 59us/step - loss: 26.4521\n",
      "Epoch 18/100\n",
      "506/506 [==============================] - 0s 22us/step - loss: 27.9935\n",
      "Epoch 19/100\n",
      "506/506 [==============================] - 0s 37us/step - loss: 27.4341\n",
      "Epoch 20/100\n",
      "506/506 [==============================] - 0s 41us/step - loss: 28.6263\n",
      "Epoch 21/100\n",
      "506/506 [==============================] - 0s 37us/step - loss: 32.2180\n",
      "Epoch 22/100\n",
      "506/506 [==============================] - 0s 34us/step - loss: 27.2460\n",
      "Epoch 23/100\n",
      "506/506 [==============================] - 0s 34us/step - loss: 27.0528\n",
      "Epoch 24/100\n",
      "506/506 [==============================] - 0s 34us/step - loss: 28.7026\n",
      "Epoch 25/100\n",
      "506/506 [==============================] - 0s 41us/step - loss: 25.1124\n",
      "Epoch 26/100\n",
      "506/506 [==============================] - 0s 37us/step - loss: 29.7898\n",
      "Epoch 27/100\n",
      "506/506 [==============================] - 0s 37us/step - loss: 27.6074\n",
      "Epoch 28/100\n",
      "506/506 [==============================] - 0s 51us/step - loss: 27.2527\n",
      "Epoch 29/100\n",
      "506/506 [==============================] - 0s 51us/step - loss: 24.7983\n",
      "Epoch 30/100\n",
      "506/506 [==============================] - 0s 22us/step - loss: 27.7611\n",
      "Epoch 31/100\n",
      "506/506 [==============================] - 0s 34us/step - loss: 25.0247\n",
      "Epoch 32/100\n",
      "506/506 [==============================] - 0s 35us/step - loss: 23.9647\n",
      "Epoch 33/100\n",
      "506/506 [==============================] - 0s 31us/step - loss: 28.4257\n",
      "Epoch 34/100\n",
      "506/506 [==============================] - 0s 45us/step - loss: 29.4608\n",
      "Epoch 35/100\n",
      "506/506 [==============================] - 0s 43us/step - loss: 27.9957\n",
      "Epoch 36/100\n",
      "506/506 [==============================] - 0s 32us/step - loss: 26.9246\n",
      "Epoch 37/100\n",
      "506/506 [==============================] - 0s 30us/step - loss: 24.7992\n",
      "Epoch 38/100\n",
      "506/506 [==============================] - 0s 34us/step - loss: 27.7823\n",
      "Epoch 39/100\n",
      "506/506 [==============================] - 0s 35us/step - loss: 29.5445\n",
      "Epoch 40/100\n",
      "506/506 [==============================] - 0s 69us/step - loss: 29.9719\n",
      "Epoch 41/100\n",
      "506/506 [==============================] - 0s 32us/step - loss: 29.6276\n",
      "Epoch 42/100\n",
      "506/506 [==============================] - 0s 43us/step - loss: 28.2559\n",
      "Epoch 43/100\n",
      "506/506 [==============================] - 0s 39us/step - loss: 26.4365\n",
      "Epoch 44/100\n",
      "506/506 [==============================] - 0s 41us/step - loss: 27.9637\n",
      "Epoch 45/100\n",
      "506/506 [==============================] - 0s 51us/step - loss: 27.3613\n",
      "Epoch 46/100\n",
      "506/506 [==============================] - 0s 39us/step - loss: 26.7678\n",
      "Epoch 47/100\n",
      "506/506 [==============================] - 0s 45us/step - loss: 27.0538\n",
      "Epoch 48/100\n",
      "506/506 [==============================] - 0s 39us/step - loss: 26.4256\n",
      "Epoch 49/100\n",
      "506/506 [==============================] - 0s 37us/step - loss: 26.9240\n",
      "Epoch 50/100\n",
      "506/506 [==============================] - 0s 55us/step - loss: 25.3006\n",
      "Epoch 51/100\n",
      "506/506 [==============================] - 0s 77us/step - loss: 30.2255\n",
      "Epoch 52/100\n",
      "506/506 [==============================] - 0s 65us/step - loss: 25.7124\n",
      "Epoch 53/100\n",
      "506/506 [==============================] - 0s 24us/step - loss: 26.9905\n",
      "Epoch 54/100\n",
      "506/506 [==============================] - 0s 51us/step - loss: 29.2789\n",
      "Epoch 55/100\n",
      "506/506 [==============================] - 0s 32us/step - loss: 25.4688\n",
      "Epoch 56/100\n",
      "506/506 [==============================] - 0s 43us/step - loss: 25.9066\n",
      "Epoch 57/100\n",
      "506/506 [==============================] - 0s 32us/step - loss: 26.3003\n",
      "Epoch 58/100\n",
      "506/506 [==============================] - 0s 39us/step - loss: 25.6488\n",
      "Epoch 59/100\n",
      "506/506 [==============================] - 0s 37us/step - loss: 26.3593\n",
      "Epoch 60/100\n",
      "506/506 [==============================] - 0s 34us/step - loss: 23.6510\n",
      "Epoch 61/100\n",
      "506/506 [==============================] - ETA: 0s - loss: 24.59 - 0s 53us/step - loss: 27.9378\n",
      "Epoch 62/100\n",
      "506/506 [==============================] - 0s 53us/step - loss: 27.8629\n",
      "Epoch 63/100\n",
      "506/506 [==============================] - 0s 26us/step - loss: 26.5844\n",
      "Epoch 64/100\n",
      "506/506 [==============================] - 0s 32us/step - loss: 28.0851\n",
      "Epoch 65/100\n",
      "506/506 [==============================] - 0s 26us/step - loss: 28.1991\n",
      "Epoch 66/100\n",
      "506/506 [==============================] - 0s 32us/step - loss: 28.7324\n",
      "Epoch 67/100\n",
      "506/506 [==============================] - 0s 32us/step - loss: 31.7133\n",
      "Epoch 68/100\n",
      "506/506 [==============================] - 0s 34us/step - loss: 27.8171\n",
      "Epoch 69/100\n",
      "506/506 [==============================] - 0s 34us/step - loss: 23.7180\n",
      "Epoch 70/100\n",
      "506/506 [==============================] - 0s 37us/step - loss: 27.2166\n",
      "Epoch 71/100\n",
      "506/506 [==============================] - 0s 35us/step - loss: 27.8459\n",
      "Epoch 72/100\n",
      "506/506 [==============================] - 0s 39us/step - loss: 26.2447\n",
      "Epoch 73/100\n",
      "506/506 [==============================] - 0s 34us/step - loss: 27.6418\n",
      "Epoch 74/100\n",
      "506/506 [==============================] - 0s 49us/step - loss: 26.9462\n",
      "Epoch 75/100\n",
      "506/506 [==============================] - 0s 47us/step - loss: 31.5634\n",
      "Epoch 76/100\n",
      "506/506 [==============================] - 0s 32us/step - loss: 27.5576\n",
      "Epoch 77/100\n",
      "506/506 [==============================] - 0s 32us/step - loss: 26.7889\n",
      "Epoch 78/100\n",
      "506/506 [==============================] - 0s 32us/step - loss: 28.7677\n",
      "Epoch 79/100\n",
      "506/506 [==============================] - 0s 32us/step - loss: 31.0499\n",
      "Epoch 80/100\n",
      "506/506 [==============================] - 0s 34us/step - loss: 26.9399\n",
      "Epoch 81/100\n",
      "506/506 [==============================] - 0s 35us/step - loss: 28.7030\n",
      "Epoch 82/100\n",
      "506/506 [==============================] - 0s 35us/step - loss: 31.3508\n",
      "Epoch 83/100\n",
      "506/506 [==============================] - 0s 34us/step - loss: 25.2551\n",
      "Epoch 84/100\n",
      "506/506 [==============================] - 0s 34us/step - loss: 25.2411\n",
      "Epoch 85/100\n",
      "506/506 [==============================] - 0s 32us/step - loss: 27.3648\n",
      "Epoch 86/100\n",
      "506/506 [==============================] - 0s 26us/step - loss: 30.4791\n",
      "Epoch 87/100\n",
      "506/506 [==============================] - 0s 33us/step - loss: 30.3221\n",
      "Epoch 88/100\n",
      "506/506 [==============================] - 0s 63us/step - loss: 24.9768\n",
      "Epoch 89/100\n",
      "506/506 [==============================] - 0s 37us/step - loss: 27.8323\n",
      "Epoch 90/100\n",
      "506/506 [==============================] - 0s 37us/step - loss: 28.4685\n",
      "Epoch 91/100\n",
      "506/506 [==============================] - 0s 39us/step - loss: 29.1057\n",
      "Epoch 92/100\n",
      "506/506 [==============================] - 0s 26us/step - loss: 28.1439\n",
      "Epoch 93/100\n",
      "506/506 [==============================] - 0s 20us/step - loss: 28.4858\n",
      "Epoch 94/100\n",
      "506/506 [==============================] - 0s 35us/step - loss: 26.0452\n",
      "Epoch 95/100\n",
      "506/506 [==============================] - 0s 34us/step - loss: 23.7792\n",
      "Epoch 96/100\n",
      "506/506 [==============================] - 0s 28us/step - loss: 26.1881\n",
      "Epoch 97/100\n"
     ]
    },
    {
     "name": "stdout",
     "output_type": "stream",
     "text": [
      "506/506 [==============================] - 0s 24us/step - loss: 30.0662\n",
      "Epoch 98/100\n",
      "506/506 [==============================] - 0s 35us/step - loss: 29.5583\n",
      "Epoch 99/100\n",
      "506/506 [==============================] - 0s 30us/step - loss: 28.2649\n",
      "Epoch 100/100\n",
      "506/506 [==============================] - 0s 39us/step - loss: 26.5926\n"
     ]
    },
    {
     "data": {
      "text/plain": [
       "<tensorflow.python.keras.callbacks.History at 0x2a6ffc29fd0>"
      ]
     },
     "execution_count": 8,
     "metadata": {},
     "output_type": "execute_result"
    }
   ],
   "source": [
    "model.fit(features, actual_prices, epochs=100)"
   ]
  },
  {
   "cell_type": "markdown",
   "metadata": {
    "slideshow": {
     "slide_type": "slide"
    }
   },
   "source": [
    "### Save the model"
   ]
  },
  {
   "cell_type": "code",
   "execution_count": 9,
   "metadata": {
    "slideshow": {
     "slide_type": "fragment"
    }
   },
   "outputs": [],
   "source": [
    "model.save('/tmp/boston_housing_lr.h5')"
   ]
  }
 ],
 "metadata": {
  "kernelspec": {
   "display_name": "Python 3",
   "language": "python",
   "name": "python3"
  },
  "language_info": {
   "codemirror_mode": {
    "name": "ipython",
    "version": 3
   },
   "file_extension": ".py",
   "mimetype": "text/x-python",
   "name": "python",
   "nbconvert_exporter": "python",
   "pygments_lexer": "ipython3",
   "version": "3.6.5"
  }
 },
 "nbformat": 4,
 "nbformat_minor": 2
}
